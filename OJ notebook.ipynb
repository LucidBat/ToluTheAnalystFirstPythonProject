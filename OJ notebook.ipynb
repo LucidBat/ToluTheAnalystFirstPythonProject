{
 "cells": [
  {
   "cell_type": "code",
   "execution_count": 1,
   "id": "d2245dd2-0f2e-4146-a868-2f89f10d3026",
   "metadata": {
    "scrolled": true
   },
   "outputs": [
    {
     "name": "stdin",
     "output_type": "stream",
     "text": [
      " what is your name?: Mon nom est O.J\n"
     ]
    },
    {
     "data": {
      "text/plain": [
       "'Mon nom est O.J'"
      ]
     },
     "execution_count": 1,
     "metadata": {},
     "output_type": "execute_result"
    }
   ],
   "source": [
    "input (' what is your name?:')"
   ]
  },
  {
   "cell_type": "code",
   "execution_count": 15,
   "id": "397e915b-4280-44ee-9ece-1233f9b37d7b",
   "metadata": {},
   "outputs": [],
   "source": [
    "myset=[1,2,3,4,5]\n",
    "myset\n",
    "myset= ['o.j', 23,1.5]"
   ]
  },
  {
   "cell_type": "code",
   "execution_count": 61,
   "id": "2dc7fae2-ae54-4ba2-965e-4a67f471c7ba",
   "metadata": {},
   "outputs": [
    {
     "data": {
      "text/plain": [
       "[' apple', 'banana', 'pawpaw', 'pineapple', 'cucumber', 'golden melon']"
      ]
     },
     "execution_count": 61,
     "metadata": {},
     "output_type": "execute_result"
    }
   ],
   "source": [
    "fruits=[' apple','banana','pear']\n",
    "fruits[2]='pawpaw'\n",
    "fruits\n",
    "fruits.append('pineapple')\n",
    "fruits\n",
    "fruits.insert(1,'coconut')\n",
    "fruits\n",
    "fruits.extend(['cucumber','golden melon'])\n",
    "fruits\n",
    "fruits.count('banana')\n",
    "fruits.remove('coconut')\n",
    "fruits"
   ]
  },
  {
   "cell_type": "code",
   "execution_count": 83,
   "id": "7bcd9345-fc60-4ca9-83b2-8df36bd2e660",
   "metadata": {
    "scrolled": true
   },
   "outputs": [
    {
     "data": {
      "text/plain": [
       "{1, 2, 3, 4, 5, 6, 7, 8, 9}"
      ]
     },
     "execution_count": 83,
     "metadata": {},
     "output_type": "execute_result"
    }
   ],
   "source": [
    "Numero=[1,2,3,4,5,6,7,8]\n",
    "Numero.extend([9,10])\n",
    "Numero.remove(2)\n",
    "Numero.append(11)\n",
    "Numero\n",
    "name,age,gender=('tolu','44','male')\n",
    "set={1,2,3,4}\n",
    "set.add(5)\n",
    "set\n",
    "set.update([6,7,8,9])\n",
    "set"
   ]
  },
  {
   "cell_type": "code",
   "execution_count": 93,
   "id": "dafcbc60-9d6d-474d-9fbc-e898ce944941",
   "metadata": {},
   "outputs": [
    {
     "data": {
      "text/plain": [
       "{1, 2, 3, 4, 5, 6, 7}"
      ]
     },
     "execution_count": 93,
     "metadata": {},
     "output_type": "execute_result"
    }
   ],
   "source": [
    "a={1,2,3,4}\n",
    "b={5,3,6,7}\n",
    "c=a.intersection(b)\n",
    "d=a.union(b)\n",
    "c\n",
    "d"
   ]
  },
  {
   "cell_type": "code",
   "execution_count": 3,
   "id": "80e6bb10-be5e-46df-a751-4dcdd798e879",
   "metadata": {},
   "outputs": [
    {
     "name": "stdin",
     "output_type": "stream",
     "text": [
      "what is your name?: gg\n",
      "how old are you?: 9\n"
     ]
    },
    {
     "name": "stdout",
     "output_type": "stream",
     "text": [
      "my name is gg, i am 9 years old\n"
     ]
    }
   ],
   "source": [
    "names = input('what is your name?:')\n",
    "age = input('how old are you?:')\n",
    "print(f\"my name is {names}, i am {age} years old\")"
   ]
  },
  {
   "cell_type": "code",
   "execution_count": 9,
   "id": "86f829f2-6472-4ac2-9549-48d6b86808e2",
   "metadata": {},
   "outputs": [
    {
     "data": {
      "text/plain": [
       "'hello there!'"
      ]
     },
     "execution_count": 9,
     "metadata": {},
     "output_type": "execute_result"
    }
   ],
   "source": [
    "def greet():\n",
    "    return(\"hello there!\")\n",
    "greet()"
   ]
  },
  {
   "cell_type": "code",
   "execution_count": 29,
   "id": "b4904122-7067-43fd-978c-494909411aa1",
   "metadata": {},
   "outputs": [
    {
     "name": "stdin",
     "output_type": "stream",
     "text": [
      "what is your name?: ojay\n"
     ]
    },
    {
     "data": {
      "text/plain": [
       "6"
      ]
     },
     "execution_count": 29,
     "metadata": {},
     "output_type": "execute_result"
    }
   ],
   "source": [
    "def name():\n",
    "    return(str(input('what is your name?:')))\n",
    "name()\n",
    "def sub(a,b):\n",
    "    return(a-b)\n",
    "sub (9,3)"
   ]
  },
  {
   "cell_type": "code",
   "execution_count": 35,
   "id": "1d7aed8a-e44a-4263-a343-b5128834e711",
   "metadata": {},
   "outputs": [
    {
     "name": "stdout",
     "output_type": "stream",
     "text": [
      "1\n",
      "2\n",
      "3\n",
      "4\n",
      "5\n",
      "6\n",
      "7\n",
      "8\n",
      "9\n"
     ]
    }
   ],
   "source": [
    "for i in range(1,10):\n",
    "    print(i)"
   ]
  },
  {
   "cell_type": "code",
   "execution_count": 37,
   "id": "9002b357-de47-43c0-a697-ba887f5102fa",
   "metadata": {
    "scrolled": true
   },
   "outputs": [
    {
     "name": "stdout",
     "output_type": "stream",
     "text": [
      "1\n",
      "2\n",
      "3\n",
      "4\n",
      "5\n",
      "6\n",
      "7\n",
      "8\n",
      "9\n",
      "10\n",
      "11\n",
      "12\n",
      "13\n",
      "14\n",
      "15\n",
      "16\n",
      "17\n",
      "18\n",
      "19\n",
      "20\n",
      "21\n",
      "22\n",
      "23\n",
      "24\n",
      "25\n",
      "26\n",
      "27\n",
      "28\n",
      "29\n",
      "30\n",
      "31\n",
      "32\n",
      "33\n",
      "34\n",
      "35\n",
      "36\n",
      "37\n",
      "38\n",
      "39\n",
      "40\n",
      "41\n",
      "42\n",
      "43\n",
      "44\n",
      "45\n",
      "46\n",
      "47\n",
      "48\n",
      "49\n",
      "50\n"
     ]
    }
   ],
   "source": [
    "for i in range(1,51):\n",
    "    print(i)"
   ]
  },
  {
   "cell_type": "code",
   "execution_count": 61,
   "id": "5caf4801-2180-462f-9c75-fd507c0c832d",
   "metadata": {},
   "outputs": [
    {
     "name": "stdout",
     "output_type": "stream",
     "text": [
      "true\n",
      "yes\n"
     ]
    }
   ],
   "source": [
    "m=9\n",
    "if m== 9:\n",
    "    print('true')\n",
    "a= 11\n",
    "if a> 10:\n",
    "    print ('yes')\n",
    "else:\n",
    "    print ('noo')"
   ]
  },
  {
   "cell_type": "code",
   "execution_count": 9,
   "id": "00132788-cfc9-470a-8df5-bc504c014e38",
   "metadata": {},
   "outputs": [
    {
     "name": "stdout",
     "output_type": "stream",
     "text": [
      "4\n",
      "8\n",
      "12\n",
      "16\n",
      "20\n",
      "24\n",
      "28\n",
      "32\n",
      "36\n",
      "40\n",
      "44\n",
      "48\n"
     ]
    }
   ],
   "source": [
    "for i in range (1,13):\n",
    "    print (i*4)"
   ]
  },
  {
   "cell_type": "code",
   "execution_count": 29,
   "id": "d1c4415c-3657-4769-a9e2-c60a2bc9a621",
   "metadata": {},
   "outputs": [],
   "source": [
    "def add (a,b):\n",
    "    return(a+b)\n",
    "add(10,20)\n",
    "\n",
    "def multiply (a,b):\n",
    "    return(a*b)\n",
    "multiply(10,4)\n"
   ]
  }
 ],
 "metadata": {
  "kernelspec": {
   "display_name": "Python 3 (ipykernel)",
   "language": "python",
   "name": "python3"
  },
  "language_info": {
   "codemirror_mode": {
    "name": "ipython",
    "version": 3
   },
   "file_extension": ".py",
   "mimetype": "text/x-python",
   "name": "python",
   "nbconvert_exporter": "python",
   "pygments_lexer": "ipython3",
   "version": "3.12.4"
  }
 },
 "nbformat": 4,
 "nbformat_minor": 5
}
